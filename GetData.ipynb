{
  "cells": [
    {
      "cell_type": "code",
      "execution_count": 1,
      "metadata": {
        "collapsed": true,
        "pycharm": {
          "is_executing": false,
          "name": "#%%\n"
        }
      },
      "outputs": [],
      "source": "import  xihua\nimport random\nimport tensorflow\nimport matplotlib.pyplot as plt\nimport pickle\nimport  xlrd\nimport os\nimport numpy as np\nfrom PIL import Image,ImageFont,ImageDraw\nimport xlwt\nimport  cv2\nimport  shutil\nfrom ImageUtil import  *\n"
    },
    {
      "cell_type": "code",
      "execution_count": 2,
      "metadata": {
        "collapsed": true,
        "pycharm": {
          "metadata": false,
          "name": "#%%\n",
          "is_executing": false
        }
      },
      "outputs": [],
      "source": "#得到汉字和字符的映射\ndef get_dict(path):\n    \"\"\"\n    :param path:存储汉字的excel绝对路径，一列存 \n    :return: id2word，word2id\n    \"\"\"\n    table \u003d xlrd.open_workbook(path)\n    sheet \u003d table.sheet_by_index(0)\n    id2word \u003d {}\n    word2id \u003d {}\n    for i in range(sheet.nrows):\n        word \u003d sheet.row_values(i)[0]\n        id2word[i] \u003d word\n        word2id[word] \u003d i\n# print(word, type(word))\n    return id2word,word2id\n\ntable_path \u003d r\u0027汉字编码字符集一级字库3755个（一列）.xls\u0027\nid2word, word2id \u003d get_dict(table_path)\nwith open(r\"Data/id2word.pkl\",\"wb\") as f:\n    pickle.dump(id2word, f)\nwith open(r\"Data/word2id.pkl\",\"wb\") as f:\n    pickle.dump(word2id, f)"
    },
    {
      "cell_type": "code",
      "execution_count": 6,
      "outputs": [
        {
          "name": "stdout",
          "text": [
            "魑 0\n"
          ],
          "output_type": "stream"
        }
      ],
      "source": "#得到初始数据集\nclass Font2Img(object):\n    \"\"\"\n    \n    \"\"\"\n    def __init__(self,\n                 width,\n                 height,\n                 ):\n        self.width \u003d width\n        self.height \u003d height\n    \n    def get_image(self,font_path, word, rotate, crop,is_reversed ):\n        \"\"\"\n        :param font_path: str,字体文件绝对路径 \n        :param word: str,需要转化为图像的一个汉字\n        :return: narray,size\u003d(height,width),字体图像\n        \"\"\"\n        #白色背景\n        y\u003d1\n        img \u003d Image.new(\"RGB\", (self.width+100, self.height+100), \"white\")\n        draw \u003d ImageDraw.Draw(img)\n        font \u003d ImageFont.truetype(font_path, int(self.width+50))\n        draw.fontmode \u003d \"1\"\n        #黑色字体\n        draw.text((0, 0), word,(0,0,0),font \u003d font)   \n        img \u003d img.rotate(rotate,  expand\u003d 1, fillcolor\u003d\"white\")\n        # print(img.size, type(img))\n        img \u003d np.asarray(img, dtype\u003d\u0027uint8\u0027)[:,:,0]\n        # plt.imshow(img, \"gray\")\n        # plt.show()\n        img \u003d ImageProcessing.crop_margin(img,crop)\n        img \u003d cv2.resize(img,(self.height,self.width),Image.ANTIALIAS)\n        # img \u003d cv2.adaptiveThreshold(img,255,cv2.ADAPTIVE_THRESH_GAUSSIAN_C,cv2.THRESH_BINARY,11,2)\n        th,img\u003d cv2.threshold(img,0,255,cv2.THRESH_BINARY+cv2.THRESH_OTSU)\n        if is_reversed:\n            img \u003d img[::-1,::-1]\n        return img \n    \n        \ndef get_data(data_dir, width, height, Rotate, Rotate_step, test_ratio, crop,reversed_ratio,is_aug\u003d0):\n    id2word \u003d {}\n    word2id \u003d {}\n    with open(r\"Data/id2word.pkl\",\"rb\") as f:\n        id2word \u003d pickle.load(f)\n    with open(r\"Data/word2id.pkl\",\"rb\") as f:\n        word2id \u003d pickle.load(f)\n        \n    # for item in \n    train_dir \u003dos.path.join(data_dir, \u0027train\u0027) \n    test_dir \u003d os.path.join(data_dir, \u0027test\u0027)\n    for word, id in ((\u0027魑\u0027, 0),):# word2id.items():\n        print(word, id)\n        image_list \u003d []\n        font2img \u003d Font2Img(width, height)\n        for font_name in os.listdir(r\"./Fonts\")[:]:    \n            # print(font_name)\n            font_path \u003d os.path.join(r\"./Fonts\",font_name)\n            for rotate in range(-Rotate, Rotate+1, Rotate_step):\n                is_reversed \u003d random.random()\u003creversed_ratio\n                img \u003d font2img.get_image(font_path, word, rotate,crop,is_reversed)\n                image_list.append((img,is_reversed))\n                aug_img \u003d None\n                flag \u003d None\n                if is_aug :\n                    rand \u003d random.random()\n                    if rand \u003c 0.25:\n                        aug_img \u003d ImageProcessing.dilate(img,3)\n                        flag \u003d1\n                    elif rand \u003c 0.5:\n                        aug_img \u003d ImageProcessing.erode(img,3)\n                        flag \u003d2\n                    elif rand \u003c 0.75:\n                        aug_img \u003d ImageProcessing.closing(img,3)\n                        flag \u003d3\n                    else:\n                        aug_img \u003d ImageProcessing.opening(img,3)\n                        flag \u003d4\n                    image_list.append((aug_img,is_reversed))\n                # c \u003d img - aug_img\n                # cc,count \u003d np.unique(c,return_counts\u003dTrue) \n                # fig,ax \u003d plt.subplots(1,2)\n                # ax[0].imshow(img,cmap\u003d\"gray\")\n                # # ax[1].imshow(aug_img,cmap\u003d\"gray\")\n                # ax[1].imshow(xihua.Xihua(img,xihua.array),cmap\u003d\"gray\")\n                # # ax[3].imshow(xihua.Xihua(aug_img,xihua.array),cmap\u003d\"gray\")\n                # \n                # plt.title(font_name)\n                # plt.show()\n        test_num \u003d len(image_list) * test_ratio \n        np.random.shuffle(image_list)\n        count \u003d 0\n        for i in range(len(image_list)):\n           img \u003d image_list[i][0] \n           is_reversed \u003d image_list[i][1]\n           if count \u003c test_num:\n               word_dir \u003dos.path.join(test_dir,\u0027%0.5d\u0027%id) \n           else:\n               word_dir \u003dos.path.join(train_dir,\u0027%0.5d\u0027%id)\n\n           if not os.path.isdir(word_dir): \n              os.makedirs(word_dir)\n           path_image \u003d os.path.join(word_dir, \u0027%d %d.png\u0027% (count,is_reversed))\n           cv2.imwrite(path_image, img)\n           count +\u003d1\n            \nif __name__ \u003d\u003d\"__main__\":\n    width \u003d 100\n    height \u003d 100\n    Rotate \u003d 20\n    Rotate_step \u003d 5 \n    test_ratio \u003d 0.02\n    crop \u003d 15# 字左右随机裁剪0-15个像素\n    reversed_ratio \u003d 0.4\n    data_dir \u003d r\u0027kNNData\u0027\n    get_data(data_dir, width, height, Rotate, Rotate_step, test_ratio, crop,reversed_ratio, is_aug\u003dFalse)",
      "metadata": {
        "pycharm": {
          "metadata": false,
          "name": "#%%\n",
          "is_executing": false
        }
      }
    },
    {
      "cell_type": "code",
      "execution_count": null,
      "outputs": [],
      "source": "",
      "metadata": {
        "pycharm": {
          "metadata": false,
          "name": "#%%\n"
        }
      }
    },
    {
      "cell_type": "code",
      "execution_count": 14,
      "outputs": [
        {
          "name": "stdout",
          "text": [
            "[array([1, 2]), array([1, 2])]\n[array([1, 3]), array([1, 3])]\n"
          ],
          "output_type": "stream"
        }
      ],
      "source": "a \u003dnp.array([1,2])\nb \u003d []\nb.append(a)\nb.append(a)\nprint(b)\na[1] \u003d 3\nprint(b)\n",
      "metadata": {
        "pycharm": {
          "metadata": false,
          "name": "#%%\n",
          "is_executing": false
        }
      }
    }
  ],
  "metadata": {
    "kernelspec": {
      "name": "pycharm-d53bdd28",
      "language": "python",
      "display_name": "PyCharm (毕设)"
    },
    "language_info": {
      "codemirror_mode": {
        "name": "ipython",
        "version": 3
      },
      "file_extension": ".py",
      "mimetype": "text/x-python",
      "name": "python",
      "nbconvert_exporter": "python",
      "pygments_lexer": "ipython3",
      "version": "3.6.2"
    }
  },
  "nbformat": 4,
  "nbformat_minor": 1
}