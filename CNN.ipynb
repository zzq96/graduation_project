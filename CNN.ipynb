{
 "cells": [
  {
   "cell_type": "code",
   "execution_count": 1,
   "metadata": {
    "pycharm": {
     "is_executing": false
    }
   },
   "outputs": [],
   "source": [
    "import  tensorflow as tf\n",
    "from tensorflow.keras.models import Sequential\n",
    "from tensorflow.keras.layers import Dense, Dropout, Flatten, Activation\n",
    "from tensorflow.keras.layers import  Conv2D, MaxPooling2D, BatchNormalization\n",
    "import  numpy as np"
   ]
  },
  {
   "cell_type": "code",
   "execution_count": 2,
   "metadata": {
    "pycharm": {
     "is_executing": false,
     "metadata": false,
     "name": "#%%\n"
    }
   },
   "outputs": [
    {
     "name": "stdout",
     "output_type": "stream",
     "text": [
      "(331191, 40, 40, 1)\n",
      "[[1 0]\n",
      " [0 1]\n",
      " [1 0]\n",
      " ...\n",
      " [1 0]\n",
      " [1 0]\n",
      " [1 0]]\n"
     ]
    }
   ],
   "source": [
    "batch_size = 2400\n",
    "num_classes = 2\n",
    "epochs = 200\n",
    "\n",
    "train_X = np.load(r\"CNNData\\train_X.npy\")\n",
    "train_X = np.expand_dims(train_X,axis=3)\n",
    "train_Y = np.load(r\"CNNData\\train_Y.npy\")\n",
    "test_X = np.load(r\"CNNData\\test_X.npy\")\n",
    "test_X = np.expand_dims(test_X,axis=3)\n",
    "train_Y = np.load(r\"CNNData\\train_Y.npy\")\n",
    "test_Y = np.load(r\"CNNData\\test_Y.npy\")\n",
    "for i in range(train_Y.shape[0]):\n",
    "    if train_Y[i,1] == 1:\n",
    "        train_Y[i,:] = [0,1]\n",
    "    else:\n",
    "        train_Y[i,:] = [1,0]\n",
    "for i in range(test_Y.shape[0]):\n",
    "    if test_Y[i,1] == 1:\n",
    "        test_Y[i,:] = [0,1]\n",
    "    else:\n",
    "        test_Y[i,:] = [1,0]\n",
    "    \n",
    "print(train_X.shape)\n",
    "print(test_Y)"
   ]
  },
  {
   "cell_type": "code",
   "execution_count": 3,
   "metadata": {
    "pycharm": {
     "is_executing": false,
     "metadata": false,
     "name": "#%%\n"
    }
   },
   "outputs": [
    {
     "name": "stdout",
     "output_type": "stream",
     "text": [
      "WARNING:tensorflow:From D:\\software\\Miniconda3\\envs\\learn\\lib\\site-packages\\tensorflow\\python\\ops\\resource_variable_ops.py:435: colocate_with (from tensorflow.python.framework.ops) is deprecated and will be removed in a future version.\n",
      "Instructions for updating:\n",
      "Colocations handled automatically by placer.\n",
      "WARNING:tensorflow:From D:\\software\\Miniconda3\\envs\\learn\\lib\\site-packages\\tensorflow\\python\\keras\\layers\\core.py:143: calling dropout (from tensorflow.python.ops.nn_ops) with keep_prob is deprecated and will be removed in a future version.\n",
      "Instructions for updating:\n",
      "Please use `rate` instead of `keep_prob`. Rate should be set to `rate = 1 - keep_prob`.\n",
      "_________________________________________________________________\n",
      "Layer (type)                 Output Shape              Param #   \n",
      "=================================================================\n",
      "conv2d (Conv2D)              (None, 38, 38, 32)        320       \n",
      "_________________________________________________________________\n",
      "conv2d_1 (Conv2D)            (None, 36, 36, 32)        9248      \n",
      "_________________________________________________________________\n",
      "max_pooling2d (MaxPooling2D) (None, 18, 18, 32)        0         \n",
      "_________________________________________________________________\n",
      "dropout (Dropout)            (None, 18, 18, 32)        0         \n",
      "_________________________________________________________________\n",
      "conv2d_2 (Conv2D)            (None, 16, 16, 64)        18496     \n",
      "_________________________________________________________________\n",
      "max_pooling2d_1 (MaxPooling2 (None, 8, 8, 64)          0         \n",
      "_________________________________________________________________\n",
      "dropout_1 (Dropout)          (None, 8, 8, 64)          0         \n",
      "_________________________________________________________________\n",
      "flatten (Flatten)            (None, 4096)              0         \n",
      "_________________________________________________________________\n",
      "dense (Dense)                (None, 128)               524416    \n",
      "_________________________________________________________________\n",
      "dropout_2 (Dropout)          (None, 128)               0         \n",
      "_________________________________________________________________\n",
      "dense_1 (Dense)              (None, 2)                 258       \n",
      "_________________________________________________________________\n",
      "activation (Activation)      (None, 2)                 0         \n",
      "=================================================================\n",
      "Total params: 552,738\n",
      "Trainable params: 552,738\n",
      "Non-trainable params: 0\n",
      "_________________________________________________________________\n"
     ]
    }
   ],
   "source": [
    "model = Sequential()\n",
    "model.add(Conv2D(32, kernel_size=(3, 3), activation='relu',input_shape=(40, 40, 1)))\n",
    "model.add(Conv2D(32, (3, 3), strides=1, activation='relu'))\n",
    "model.add(MaxPooling2D(pool_size=(2, 2)))\n",
    "model.add(Dropout(0.2))\n",
    "\n",
    "model.add(Conv2D(64, (3, 3), strides=1, activation='relu'))\n",
    "model.add(MaxPooling2D(pool_size=(2, 2)))\n",
    "model.add(Dropout(0.4))\n",
    "\n",
    "model.add(Flatten())\n",
    "model.add(Dense(128, activation='relu'))\n",
    "model.add(Dropout(0.5))\n",
    "model.add(Dense(num_classes))\n",
    "model.add(Activation('softmax'))\n",
    "model.summary()"
   ]
  },
  {
   "cell_type": "code",
   "execution_count": 4,
   "metadata": {
    "pycharm": {
     "is_executing": false,
     "metadata": false,
     "name": "#%%\n"
    }
   },
   "outputs": [],
   "source": [
    "model.compile(loss=tf.keras.losses.categorical_crossentropy,\n",
    "              optimizer=tf.keras.optimizers.Adadelta(),\n",
    "              \n",
    "              metrics=['accuracy'])"
   ]
  },
  {
   "cell_type": "code",
   "execution_count": 5,
   "metadata": {
    "pycharm": {
     "is_executing": false,
     "metadata": false,
     "name": "#%%\n"
    }
   },
   "outputs": [
    {
     "name": "stdout",
     "output_type": "stream",
     "text": [
      "Train on 331191 samples, validate on 6759 samples\n",
      "WARNING:tensorflow:From D:\\software\\Miniconda3\\envs\\learn\\lib\\site-packages\\tensorflow\\python\\ops\\math_ops.py:3066: to_int32 (from tensorflow.python.ops.math_ops) is deprecated and will be removed in a future version.\n",
      "Instructions for updating:\n",
      "Use tf.cast instead.\n",
      "Epoch 1/200\n",
      "256800/331191 [======================>.......] - ETA: 3:23 - loss: 8.0555 - acc: 0.4995"
     ]
    },
    {
     "ename": "KeyboardInterrupt",
     "evalue": "",
     "output_type": "error",
     "traceback": [
      "\u001b[1;31m---------------------------------------------------------------------------\u001b[0m",
      "\u001b[1;31mKeyboardInterrupt\u001b[0m                         Traceback (most recent call last)",
      "\u001b[1;32m<ipython-input-5-2d06c0a5e503>\u001b[0m in \u001b[0;36m<module>\u001b[1;34m\u001b[0m\n\u001b[0;32m      1\u001b[0m model.fit(train_X, train_Y, batch_size=batch_size, epochs=epochs,\n\u001b[1;32m----> 2\u001b[1;33m           verbose=1, validation_data=(test_X, test_Y))\n\u001b[0m",
      "\u001b[1;32mD:\\software\\Miniconda3\\envs\\learn\\lib\\site-packages\\tensorflow\\python\\keras\\engine\\training.py\u001b[0m in \u001b[0;36mfit\u001b[1;34m(self, x, y, batch_size, epochs, verbose, callbacks, validation_split, validation_data, shuffle, class_weight, sample_weight, initial_epoch, steps_per_epoch, validation_steps, max_queue_size, workers, use_multiprocessing, **kwargs)\u001b[0m\n\u001b[0;32m    878\u001b[0m           \u001b[0minitial_epoch\u001b[0m\u001b[1;33m=\u001b[0m\u001b[0minitial_epoch\u001b[0m\u001b[1;33m,\u001b[0m\u001b[1;33m\u001b[0m\u001b[1;33m\u001b[0m\u001b[0m\n\u001b[0;32m    879\u001b[0m           \u001b[0msteps_per_epoch\u001b[0m\u001b[1;33m=\u001b[0m\u001b[0msteps_per_epoch\u001b[0m\u001b[1;33m,\u001b[0m\u001b[1;33m\u001b[0m\u001b[1;33m\u001b[0m\u001b[0m\n\u001b[1;32m--> 880\u001b[1;33m           validation_steps=validation_steps)\n\u001b[0m\u001b[0;32m    881\u001b[0m \u001b[1;33m\u001b[0m\u001b[0m\n\u001b[0;32m    882\u001b[0m   def evaluate(self,\n",
      "\u001b[1;32mD:\\software\\Miniconda3\\envs\\learn\\lib\\site-packages\\tensorflow\\python\\keras\\engine\\training_arrays.py\u001b[0m in \u001b[0;36mmodel_iteration\u001b[1;34m(model, inputs, targets, sample_weights, batch_size, epochs, verbose, callbacks, val_inputs, val_targets, val_sample_weights, shuffle, initial_epoch, steps_per_epoch, validation_steps, mode, validation_in_fit, **kwargs)\u001b[0m\n\u001b[0;32m    327\u001b[0m \u001b[1;33m\u001b[0m\u001b[0m\n\u001b[0;32m    328\u001b[0m         \u001b[1;31m# Get outputs.\u001b[0m\u001b[1;33m\u001b[0m\u001b[1;33m\u001b[0m\u001b[1;33m\u001b[0m\u001b[0m\n\u001b[1;32m--> 329\u001b[1;33m         \u001b[0mbatch_outs\u001b[0m \u001b[1;33m=\u001b[0m \u001b[0mf\u001b[0m\u001b[1;33m(\u001b[0m\u001b[0mins_batch\u001b[0m\u001b[1;33m)\u001b[0m\u001b[1;33m\u001b[0m\u001b[1;33m\u001b[0m\u001b[0m\n\u001b[0m\u001b[0;32m    330\u001b[0m         \u001b[1;32mif\u001b[0m \u001b[1;32mnot\u001b[0m \u001b[0misinstance\u001b[0m\u001b[1;33m(\u001b[0m\u001b[0mbatch_outs\u001b[0m\u001b[1;33m,\u001b[0m \u001b[0mlist\u001b[0m\u001b[1;33m)\u001b[0m\u001b[1;33m:\u001b[0m\u001b[1;33m\u001b[0m\u001b[1;33m\u001b[0m\u001b[0m\n\u001b[0;32m    331\u001b[0m           \u001b[0mbatch_outs\u001b[0m \u001b[1;33m=\u001b[0m \u001b[1;33m[\u001b[0m\u001b[0mbatch_outs\u001b[0m\u001b[1;33m]\u001b[0m\u001b[1;33m\u001b[0m\u001b[1;33m\u001b[0m\u001b[0m\n",
      "\u001b[1;32mD:\\software\\Miniconda3\\envs\\learn\\lib\\site-packages\\tensorflow\\python\\keras\\backend.py\u001b[0m in \u001b[0;36m__call__\u001b[1;34m(self, inputs)\u001b[0m\n\u001b[0;32m   3074\u001b[0m \u001b[1;33m\u001b[0m\u001b[0m\n\u001b[0;32m   3075\u001b[0m     fetched = self._callable_fn(*array_vals,\n\u001b[1;32m-> 3076\u001b[1;33m                                 run_metadata=self.run_metadata)\n\u001b[0m\u001b[0;32m   3077\u001b[0m     \u001b[0mself\u001b[0m\u001b[1;33m.\u001b[0m\u001b[0m_call_fetch_callbacks\u001b[0m\u001b[1;33m(\u001b[0m\u001b[0mfetched\u001b[0m\u001b[1;33m[\u001b[0m\u001b[1;33m-\u001b[0m\u001b[0mlen\u001b[0m\u001b[1;33m(\u001b[0m\u001b[0mself\u001b[0m\u001b[1;33m.\u001b[0m\u001b[0m_fetches\u001b[0m\u001b[1;33m)\u001b[0m\u001b[1;33m:\u001b[0m\u001b[1;33m]\u001b[0m\u001b[1;33m)\u001b[0m\u001b[1;33m\u001b[0m\u001b[1;33m\u001b[0m\u001b[0m\n\u001b[0;32m   3078\u001b[0m     return nest.pack_sequence_as(self._outputs_structure,\n",
      "\u001b[1;32mD:\\software\\Miniconda3\\envs\\learn\\lib\\site-packages\\tensorflow\\python\\client\\session.py\u001b[0m in \u001b[0;36m__call__\u001b[1;34m(self, *args, **kwargs)\u001b[0m\n\u001b[0;32m   1437\u001b[0m           ret = tf_session.TF_SessionRunCallable(\n\u001b[0;32m   1438\u001b[0m               \u001b[0mself\u001b[0m\u001b[1;33m.\u001b[0m\u001b[0m_session\u001b[0m\u001b[1;33m.\u001b[0m\u001b[0m_session\u001b[0m\u001b[1;33m,\u001b[0m \u001b[0mself\u001b[0m\u001b[1;33m.\u001b[0m\u001b[0m_handle\u001b[0m\u001b[1;33m,\u001b[0m \u001b[0margs\u001b[0m\u001b[1;33m,\u001b[0m \u001b[0mstatus\u001b[0m\u001b[1;33m,\u001b[0m\u001b[1;33m\u001b[0m\u001b[1;33m\u001b[0m\u001b[0m\n\u001b[1;32m-> 1439\u001b[1;33m               run_metadata_ptr)\n\u001b[0m\u001b[0;32m   1440\u001b[0m         \u001b[1;32mif\u001b[0m \u001b[0mrun_metadata\u001b[0m\u001b[1;33m:\u001b[0m\u001b[1;33m\u001b[0m\u001b[1;33m\u001b[0m\u001b[0m\n\u001b[0;32m   1441\u001b[0m           \u001b[0mproto_data\u001b[0m \u001b[1;33m=\u001b[0m \u001b[0mtf_session\u001b[0m\u001b[1;33m.\u001b[0m\u001b[0mTF_GetBuffer\u001b[0m\u001b[1;33m(\u001b[0m\u001b[0mrun_metadata_ptr\u001b[0m\u001b[1;33m)\u001b[0m\u001b[1;33m\u001b[0m\u001b[1;33m\u001b[0m\u001b[0m\n",
      "\u001b[1;31mKeyboardInterrupt\u001b[0m: "
     ]
    }
   ],
   "source": [
    "model.fit(train_X, train_Y, batch_size=batch_size, epochs=epochs,\n",
    "          verbose=1, validation_data=(test_X, test_Y))"
   ]
  },
  {
   "cell_type": "code",
   "execution_count": 19,
   "metadata": {
    "pycharm": {
     "is_executing": false,
     "metadata": false,
     "name": "#%%\n"
    }
   },
   "outputs": [
    {
     "name": "stdout",
     "output_type": "stream",
     "text": [
      "协 0 错 0 魄 1 猾 0 塘 0 蛹 1 叮 0 .gif\n",
      "夏 0 赘 1 讽 0 爽 1 异 0 肴 0 芒 0 .gif\n",
      "妻 1 尺 0 鹊 0 背 0 向 0 彪 1 徒 0 .gif\n",
      "山 0 形 0 收 0 哀 0 备 1 棒 0 菌 0 .gif\n",
      "怎 1 苟 0 涧 0 诡 0 广 0 秸 0 秧 1 .gif\n",
      "挫 0 弹 1 牙 0 竖 1 身 0 谣 0 炎 0 .gif\n",
      "柏 0 烹 0 挖 0 雄 0 待 0 艺 0 罪 1 .gif\n",
      "求 0 管 0 怪 1 员 0 煎 0 雁 0 停 0 .gif\n",
      "狠 0 诗 0 填 0 芒 1 峦 0 址 0 吮 1 .gif\n",
      "狭 0 蚤 0 悼 1 徘 0 牛 0 波 0 府 1 .gif\n",
      "羡 1 热 0 徊 0 马 0 铸 0 茫 0 辉 1 .gif\n",
      "肝 0 卜 1 谋 0 愿 0 唧 0 狈 0 矛 1 .gif\n",
      "胃 0 超 0 席 1 氏 0 愕 0 袁 0 祭 1 .gif\n",
      "胶 1 摧 0 纺 0 狂 0 布 0 渠 0 炸 0 .gif\n",
      "脉 0 萌 1 朵 0 至 0 星 0 枣 1 嫉 0 .gif\n",
      "茂 0 赤 0 呀 0 茶 1 暂 0 氧 0 首 0 .gif\n",
      "裂 0 缝 0 困 0 挑 1 兴 0 耕 1 智 0 .gif\n",
      "诽 0 歪 1 蓄 0 赤 0 儿 0 熏 0 蚁 0 .gif\n",
      "贪 0 楔 0 卦 1 哎 0 歉 1 楼 0 葛 0 .gif\n",
      "鸳 1 尾 0 饲 0 茂 1 遏 0 富 0 青 0 .gif\n"
     ]
    }
   ],
   "source": [
    "from  Until import  *\n",
    "import pickle\n",
    "import  os\n",
    "import matplotlib.pyplot as plt\n",
    "id2word = {}\n",
    "word2id = {}\n",
    "with open(r\"Data/id2word.pkl\",\"rb\") as f:\n",
    "    id2word = pickle.load(f)\n",
    "with open(r\"Data/word2id.pkl\",\"rb\") as f:\n",
    "    word2id = pickle.load(f)\n",
    "    \n",
    "img_dir = r'.\\CaptchaData'\n",
    "kk = 7\n",
    "weight =40\n",
    "height = 40\n",
    "get_words =Captha2Words(kk,weight, height)\n",
    "test_num = kk * len(os.listdir(img_dir))\n",
    "labels = []\n",
    "words = []\n",
    "for img_name in (os.listdir(img_dir)):\n",
    "    print(img_name)\n",
    "    img_path = os.path.join(img_dir, img_name)\n",
    "    word = get_words.run(img_path)\n",
    "    \n",
    "    split_name = img_name.split(\" \") \n",
    "    for i in range(0,kk):\n",
    "        label = np.zeros((2,),dtype='int16')\n",
    "        if split_name[2*i] in word2id.keys():\n",
    "            label[0] = word2id[split_name[2*i]]\n",
    "        else : \n",
    "            label[0] = -1\n",
    "        label[1] = int(split_name[2*i+1])\n",
    "        labels.append(label)\n",
    "        words.append(word[i,...])\n",
    "words = np.array(words)\n",
    "labels = np.array(labels)\n",
    "np.save(r'CNNData/real_X',words)\n",
    "np.save(r'CNNData/real_Y',labels)"
   ]
  },
  {
   "cell_type": "code",
   "execution_count": 20,
   "metadata": {
    "pycharm": {
     "is_executing": false,
     "metadata": false,
     "name": "#%%\n"
    }
   },
   "outputs": [
    {
     "data": {
      "text/plain": [
       "environ{'#ENVTSLOGXMEDIALIBRARY5684': '352418224',\n",
       "        'ALLUSERSPROFILE': 'C:\\\\ProgramData',\n",
       "        'APPDATA': 'C:\\\\Users\\\\zzq\\\\AppData\\\\Roaming',\n",
       "        'CMDER_ROOT': 'D:\\\\software\\\\cmder',\n",
       "        'COMMONPROGRAMFILES': 'C:\\\\Program Files\\\\Common Files',\n",
       "        'COMMONPROGRAMFILES(X86)': 'C:\\\\Program Files (x86)\\\\Common Files',\n",
       "        'COMMONPROGRAMW6432': 'C:\\\\Program Files\\\\Common Files',\n",
       "        'COMPUTERNAME': 'DESKTOP-N99UD9V',\n",
       "        'COMSPEC': 'C:\\\\WINDOWS\\\\system32\\\\cmd.exe',\n",
       "        'CONDA_DEFAULT_ENV': 'learn',\n",
       "        'CONDA_PREFIX': 'D:\\\\software\\\\Miniconda3\\\\envs\\\\learn',\n",
       "        'CONDA_PROMPT_MODIFIER': '(learn) ',\n",
       "        'CONDA_SHLVL': '1',\n",
       "        'DRIVERDATA': 'C:\\\\Windows\\\\System32\\\\Drivers\\\\DriverData',\n",
       "        'FPS_BROWSER_APP_PROFILE_STRING': 'Internet Explorer',\n",
       "        'FPS_BROWSER_USER_PROFILE_STRING': 'Default',\n",
       "        'HOMEDRIVE': 'C:',\n",
       "        'HOMEPATH': '\\\\Users\\\\zzq',\n",
       "        'KJFS': 'D:\\\\path',\n",
       "        'LOCALAPPDATA': 'C:\\\\Users\\\\zzq\\\\AppData\\\\Local',\n",
       "        'LOGONSERVER': '\\\\\\\\DESKTOP-N99UD9V',\n",
       "        'MINICONDA3': 'D:\\\\software\\\\Miniconda3',\n",
       "        'NUMBER_OF_PROCESSORS': '4',\n",
       "        'ONEDRIVE': 'D:\\\\OneDrive - stu.csust.edu.cn',\n",
       "        'ONEDRIVECOMMERCIAL': 'D:\\\\OneDrive - stu.csust.edu.cn',\n",
       "        'OS': 'Windows_NT',\n",
       "        'PATH': 'D:\\\\software\\\\Miniconda3\\\\envs\\\\learn;D:\\\\software\\\\Miniconda3\\\\envs\\\\learn\\\\Library\\\\mingw-w64\\\\bin;D:\\\\software\\\\Miniconda3\\\\envs\\\\learn\\\\Library\\\\usr\\\\bin;D:\\\\software\\\\Miniconda3\\\\envs\\\\learn\\\\Library\\\\bin;D:\\\\software\\\\Miniconda3\\\\envs\\\\learn\\\\Scripts;D:\\\\software\\\\Miniconda3\\\\envs\\\\learn\\\\bin;D:\\\\software\\\\Miniconda3\\\\condabin;C:\\\\WINDOWS\\\\system32;C:\\\\WINDOWS;C:\\\\WINDOWS\\\\System32\\\\Wbem;C:\\\\WINDOWS\\\\System32\\\\WindowsPowerShell\\\\v1.0;C:\\\\WINDOWS\\\\System32\\\\OpenSSH;C:\\\\Program Files (x86)\\\\dotnet;C:\\\\Users\\\\zzq\\\\AppData\\\\Local\\\\Microsoft\\\\WindowsApps;D:\\\\software\\\\Bandizip;D:\\\\path;D:\\\\software\\\\Miniconda3\\\\Scripts;D:\\\\software\\\\Miniconda3\\\\Library\\\\bin;D:\\\\software\\\\cmder;D:\\\\software\\\\cmder\\\\vendor\\\\git-for-windows;D:\\\\software\\\\cmder\\\\vendor\\\\git-for-windows\\\\bin;.',\n",
       "        'PATHEXT': '.COM;.EXE;.BAT;.CMD;.VBS;.VBE;.JS;.JSE;.WSF;.WSH;.MSC',\n",
       "        'PROCESSOR_ARCHITECTURE': 'AMD64',\n",
       "        'PROCESSOR_IDENTIFIER': 'Intel64 Family 6 Model 61 Stepping 4, GenuineIntel',\n",
       "        'PROCESSOR_LEVEL': '6',\n",
       "        'PROCESSOR_REVISION': '3d04',\n",
       "        'PROGRAMDATA': 'C:\\\\ProgramData',\n",
       "        'PROGRAMFILES': 'C:\\\\Program Files',\n",
       "        'PROGRAMFILES(X86)': 'C:\\\\Program Files (x86)',\n",
       "        'PROGRAMW6432': 'C:\\\\Program Files',\n",
       "        'PROMPT': '(learn) $P$G',\n",
       "        'PSMODULEPATH': 'C:\\\\Program Files\\\\WindowsPowerShell\\\\Modules;C:\\\\WINDOWS\\\\system32\\\\WindowsPowerShell\\\\v1.0\\\\Modules',\n",
       "        'PUBLIC': 'C:\\\\Users\\\\Public',\n",
       "        'SESSIONNAME': 'Console',\n",
       "        'SYSTEMDRIVE': 'C:',\n",
       "        'SYSTEMROOT': 'C:\\\\WINDOWS',\n",
       "        'TEMP': 'C:\\\\Users\\\\zzq\\\\AppData\\\\Local\\\\Temp',\n",
       "        'TMP': 'C:\\\\Users\\\\zzq\\\\AppData\\\\Local\\\\Temp',\n",
       "        'USERDOMAIN': 'DESKTOP-N99UD9V',\n",
       "        'USERDOMAIN_ROAMINGPROFILE': 'DESKTOP-N99UD9V',\n",
       "        'USERNAME': 'zzq',\n",
       "        'USERPROFILE': 'C:\\\\Users\\\\zzq',\n",
       "        'WINDIR': 'C:\\\\WINDOWS',\n",
       "        'JPY_INTERRUPT_EVENT': '1620',\n",
       "        'IPY_INTERRUPT_EVENT': '1620',\n",
       "        'JPY_PARENT_PID': '1168',\n",
       "        'TERM': 'xterm-color',\n",
       "        'CLICOLOR': '1',\n",
       "        'PAGER': 'cat',\n",
       "        'GIT_PAGER': 'cat',\n",
       "        'MPLBACKEND': 'module://ipykernel.pylab.backend_inline'}"
      ]
     },
     "execution_count": 20,
     "metadata": {},
     "output_type": "execute_result"
    }
   ],
   "source": [
    "os.environ"
   ]
  }
 ],
 "metadata": {
  "kernelspec": {
   "display_name": "Python 3",
   "language": "python",
   "name": "python3"
  },
  "language_info": {
   "codemirror_mode": {
    "name": "ipython",
    "version": 3
   },
   "file_extension": ".py",
   "mimetype": "text/x-python",
   "name": "python",
   "nbconvert_exporter": "python",
   "pygments_lexer": "ipython3",
   "version": "3.6.8"
  }
 },
 "nbformat": 4,
 "nbformat_minor": 1
}
