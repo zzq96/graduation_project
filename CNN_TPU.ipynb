{
  "nbformat": 4,
  "nbformat_minor": 0,
  "metadata": {
    "colab": {
      "name": "CNN_TPU.ipynb",
      "version": "0.3.2",
      "provenance": []
    },
    "language_info": {
      "codemirror_mode": {
        "name": "ipython",
        "version": 2
      },
      "file_extension": ".py",
      "mimetype": "text/x-python",
      "name": "python",
      "nbconvert_exporter": "python",
      "pygments_lexer": "ipython2",
      "version": "2.7.6"
    },
    "kernelspec": {
      "name": "python3",
      "display_name": "Python 3"
    },
    "accelerator": "TPU"
  },
  "cells": [
    {
      "metadata": {
        "pycharm": {
          "is_executing": false
        },
        "id": "SHbK3WhRwxid",
        "colab_type": "code",
        "colab": {}
      },
      "cell_type": "code",
      "source": [
        "import  tensorflow as tf\n",
        "from tensorflow.keras.models import Sequential\n",
        "from tensorflow.keras.layers import Dense, Dropout, Flatten, Activation\n",
        "from tensorflow.keras.layers import  Conv2D, MaxPooling2D, BatchNormalization\n",
        "import  numpy as np\n",
        "import matplotlib.pyplot as plt"
      ],
      "execution_count": 0,
      "outputs": []
    },
    {
      "metadata": {
        "pycharm": {
          "metadata": false,
          "name": "#%%\n",
          "is_executing": false
        },
        "id": "TgamqNhBwxi3",
        "colab_type": "code",
        "outputId": "ef80a6e2-9a37-48dc-8d35-4c9853563d03",
        "colab": {
          "base_uri": "https://localhost:8080/",
          "height": 143
        }
      },
      "cell_type": "code",
      "source": [
        "batch_size = 1024*3\n",
        "num_classes = 2\n",
        "epochs = 200\n",
        "\n",
        "train_X = np.load(r\"CNNData/train_X.npy\")\n",
        "train_X = np.expand_dims(train_X,axis=3)\n",
        "train_Y = np.load(r\"CNNData/train_Y.npy\")\n",
        "\n",
        "test_X = np.load(r\"CNNData/test_X.npy\")\n",
        "test_X = np.expand_dims(test_X,axis=3)\n",
        "test_Y = np.load(r\"CNNData/test_Y.npy\")\n",
        "\n",
        "real_X = np.load(r\"CNNData/real_X.npy\")\n",
        "real_X = np.expand_dims(real_X,axis=3)\n",
        "real_Y = np.load(r\"CNNData/real_Y.npy\")\n",
        "\n",
        "for i in range(train_Y.shape[0]):\n",
        "    if train_Y[i,1] == 1:\n",
        "        train_Y[i,:] = [0,1]\n",
        "    else:\n",
        "        train_Y[i,:] = [1,0]\n",
        "for i in range(test_Y.shape[0]):\n",
        "    if test_Y[i,1] == 1:\n",
        "        test_Y[i,:] = [0,1]\n",
        "    else:\n",
        "        test_Y[i,:] = [1,0]\n",
        "for i in range(real_Y.shape[0]):\n",
        "    if real_Y[i,1] == 1:\n",
        "        real_Y[i,:] = [0,1]\n",
        "    else:\n",
        "        real_Y[i,:] = [1,0]\n",
        "print(test_Y)"
      ],
      "execution_count": 3,
      "outputs": [
        {
          "output_type": "stream",
          "text": [
            "[[1 0]\n",
            " [0 1]\n",
            " [1 0]\n",
            " ...\n",
            " [1 0]\n",
            " [1 0]\n",
            " [1 0]]\n"
          ],
          "name": "stdout"
        }
      ]
    },
    {
      "metadata": {
        "pycharm": {
          "metadata": false,
          "name": "#%%\n",
          "is_executing": false
        },
        "id": "u3bLOVjswxjX",
        "colab_type": "code",
        "outputId": "0e1abf4e-3b6f-4a53-8462-a4e1c4f5ac88",
        "colab": {
          "base_uri": "https://localhost:8080/",
          "height": 719
        }
      },
      "cell_type": "code",
      "source": [
        "# model = Sequential()\n",
        "# model.add(Conv2D(32, kernel_size=(3, 3),strides=1,padding = \"SAME\",activation='relu',input_shape=(40, 40, 1)))\n",
        "# model.add(BatchNormalization())\n",
        "# model.add(MaxPooling2D(pool_size=(2, 2),strides=2))\n",
        "\n",
        "# model.add(Conv2D(64, kernel_size=(3, 3), strides=1, padding = \"SAME\",activation='relu'))\n",
        "# model.add(BatchNormalization())\n",
        "# model.add(MaxPooling2D(pool_size=(2, 2),strides=2))\n",
        "\n",
        "# model.add(Conv2D(128, kernel_size=(3, 3), strides=1, padding = \"SAME\",activation='relu'))\n",
        "# model.add(BatchNormalization())\n",
        "# model.add(MaxPooling2D(pool_size=(2, 2),strides=2))\n",
        "\n",
        "# model.add(Conv2D(256, kernel_size=(3, 3), strides=1, padding = \"SAME\",activation='relu'))\n",
        "# model.add(BatchNormalization())\n",
        "# model.add(MaxPooling2D(pool_size=(2, 2),strides=2))\n",
        "\n",
        "# model.add(Flatten())\n",
        "# model.add(Dense(128, activation='relu'))\n",
        "# model.add(Dense(num_classes))\n",
        "# model.add(Activation('softmax'))\n",
        "# model.summary()\n",
        "\n",
        "# model = Sequential()\n",
        "# model.add(Conv2D(32, kernel_size=(3, 3), activation='relu',input_shape=(40, 40, 1)))\n",
        "# model.add(BatchNormalization())\n",
        "# model.add(Conv2D(32, (3, 3), strides=1, activation='relu'))\n",
        "# model.add(BatchNormalization())\n",
        "# model.add(MaxPooling2D(pool_size=(2, 2)))\n",
        "# # model.add(Dropout(0.2))\n",
        "\n",
        "# model.add(Conv2D(64, (3, 3), strides=1, activation='relu'))\n",
        "# model.add(BatchNormalization())\n",
        "# model.add(MaxPooling2D(pool_size=(2, 2)))\n",
        "# # model.add(Dropout(0.4))\n",
        "\n",
        "\n",
        "# model.add(Flatten())\n",
        "# # model.add(Dropout(0.5))\n",
        "# model.add(Dense(128, activation='relu'))\n",
        "\n",
        "# model.add(Dense(num_classes))\n",
        "# model.add(Activation('softmax'))\n",
        "# model.summary()"
      ],
      "execution_count": 9,
      "outputs": [
        {
          "output_type": "stream",
          "text": [
            "_________________________________________________________________\n",
            "Layer (type)                 Output Shape              Param #   \n",
            "=================================================================\n",
            "conv2d_11 (Conv2D)           (None, 40, 40, 32)        320       \n",
            "_________________________________________________________________\n",
            "batch_normalization_v1_11 (B (None, 40, 40, 32)        128       \n",
            "_________________________________________________________________\n",
            "max_pooling2d_10 (MaxPooling (None, 20, 20, 32)        0         \n",
            "_________________________________________________________________\n",
            "conv2d_12 (Conv2D)           (None, 20, 20, 64)        18496     \n",
            "_________________________________________________________________\n",
            "batch_normalization_v1_12 (B (None, 20, 20, 64)        256       \n",
            "_________________________________________________________________\n",
            "max_pooling2d_11 (MaxPooling (None, 10, 10, 64)        0         \n",
            "_________________________________________________________________\n",
            "conv2d_13 (Conv2D)           (None, 10, 10, 128)       73856     \n",
            "_________________________________________________________________\n",
            "batch_normalization_v1_13 (B (None, 10, 10, 128)       512       \n",
            "_________________________________________________________________\n",
            "max_pooling2d_12 (MaxPooling (None, 5, 5, 128)         0         \n",
            "_________________________________________________________________\n",
            "conv2d_14 (Conv2D)           (None, 5, 5, 256)         295168    \n",
            "_________________________________________________________________\n",
            "batch_normalization_v1_14 (B (None, 5, 5, 256)         1024      \n",
            "_________________________________________________________________\n",
            "max_pooling2d_13 (MaxPooling (None, 2, 2, 256)         0         \n",
            "_________________________________________________________________\n",
            "flatten_3 (Flatten)          (None, 1024)              0         \n",
            "_________________________________________________________________\n",
            "dense_6 (Dense)              (None, 128)               131200    \n",
            "_________________________________________________________________\n",
            "dense_7 (Dense)              (None, 2)                 258       \n",
            "_________________________________________________________________\n",
            "activation_3 (Activation)    (None, 2)                 0         \n",
            "=================================================================\n",
            "Total params: 521,218\n",
            "Trainable params: 520,258\n",
            "Non-trainable params: 960\n",
            "_________________________________________________________________\n"
          ],
          "name": "stdout"
        }
      ]
    },
    {
      "metadata": {
        "pycharm": {
          "metadata": false,
          "name": "#%%\n",
          "is_executing": false
        },
        "id": "TZmmCDz7wxji",
        "colab_type": "code",
        "outputId": "a5ec0d1c-9d66-439f-b69b-8f0cffee42c2",
        "colab": {
          "base_uri": "https://localhost:8080/",
          "height": 233
        }
      },
      "cell_type": "code",
      "source": [
        "#batch norm 在relu之后\n",
        "model = Sequential()\n",
        "model.add(Conv2D(32, kernel_size=(3, 3),strides=1,padding = \"SAME\",activation='relu',input_shape=(40, 40, 1)))\n",
        "model.add(BatchNormalization())\n",
        "model.add(MaxPooling2D(pool_size=(2, 2),strides=2))\n",
        "\n",
        "model.add(Conv2D(64, kernel_size=(3, 3), strides=1, padding = \"SAME\",activation='relu'))\n",
        "model.add(BatchNormalization())\n",
        "model.add(MaxPooling2D(pool_size=(2, 2),strides=2))\n",
        "\n",
        "model.add(Conv2D(128, kernel_size=(3, 3), strides=1, padding = \"SAME\",activation='relu'))\n",
        "model.add(BatchNormalization())\n",
        "model.add(MaxPooling2D(pool_size=(2, 2),strides=2))\n",
        "\n",
        "model.add(Conv2D(256, kernel_size=(3, 3), strides=1, padding = \"SAME\",activation='relu'))\n",
        "model.add(BatchNormalization())\n",
        "model.add(MaxPooling2D(pool_size=(2, 2),strides=2))\n",
        "\n",
        "model.add(Flatten())\n",
        "model.add(Dense(128, activation='relu'))\n",
        "model.add(Dense(num_classes))\n",
        "model.add(Activation('softmax'))\n",
        "model.summary()\n",
        "\n",
        "model.compile(loss=tf.keras.losses.categorical_crossentropy,optimizer=tf.keras.optimizers.Adadelta(),metrics=['accuracy'])\n",
        "model.fit(train_X, train_Y, batch_size=batch_size*2, epochs=5,verbose=1, validation_data=(test_X, test_Y))\n"
      ],
      "execution_count": 10,
      "outputs": [
        {
          "output_type": "stream",
          "text": [
            "Train on 331191 samples, validate on 6759 samples\n",
            "Epoch 1/5\n",
            "331191/331191 [==============================] - 35s 106us/sample - loss: 0.6511 - acc: 0.8451 - val_loss: 0.4230 - val_acc: 0.7917\n",
            "Epoch 2/5\n",
            "331191/331191 [==============================] - 35s 105us/sample - loss: 0.1091 - acc: 0.9578 - val_loss: 0.2596 - val_acc: 0.8871\n",
            "Epoch 3/5\n",
            "331191/331191 [==============================] - 34s 104us/sample - loss: 0.0600 - acc: 0.9776 - val_loss: 0.1556 - val_acc: 0.9343\n",
            "Epoch 4/5\n",
            "331191/331191 [==============================] - 35s 105us/sample - loss: 0.0437 - acc: 0.9845 - val_loss: 0.0406 - val_acc: 0.9868\n",
            "Epoch 5/5\n",
            "331191/331191 [==============================] - 35s 104us/sample - loss: 0.0237 - acc: 0.9917 - val_loss: 0.0315 - val_acc: 0.9879\n"
          ],
          "name": "stdout"
        },
        {
          "output_type": "execute_result",
          "data": {
            "text/plain": [
              "<tensorflow.python.keras.callbacks.History at 0x7f30915475c0>"
            ]
          },
          "metadata": {
            "tags": []
          },
          "execution_count": 10
        }
      ]
    },
    {
      "metadata": {
        "id": "BF6OqEA6DOX4",
        "colab_type": "code",
        "colab": {
          "base_uri": "https://localhost:8080/",
          "height": 1079
        },
        "outputId": "42bac843-3607-4ab0-b6c7-e1e601a5d20c"
      },
      "cell_type": "code",
      "source": [
        "#batch norm 在relu之前\n",
        "model = Sequential()\n",
        "model.add(Conv2D(32, kernel_size=(3, 3),strides=1,padding = \"SAME\",input_shape=(40, 40, 1)))\n",
        "model.add(BatchNormalization())\n",
        "model.add(Activation('relu'))\n",
        "model.add(MaxPooling2D(pool_size=(2, 2),strides=2))\n",
        "\n",
        "model.add(Conv2D(64, kernel_size=(3, 3), strides=1, padding = \"SAME\"))\n",
        "model.add(BatchNormalization())\n",
        "model.add(Activation('relu'))\n",
        "model.add(MaxPooling2D(pool_size=(2, 2),strides=2))\n",
        "\n",
        "model.add(Conv2D(128, kernel_size=(3, 3), strides=1, padding = \"SAME\"))\n",
        "model.add(BatchNormalization())\n",
        "model.add(Activation('relu'))\n",
        "model.add(MaxPooling2D(pool_size=(2, 2),strides=2))\n",
        "\n",
        "model.add(Conv2D(256, kernel_size=(3, 3), strides=1, padding = \"SAME\"))\n",
        "model.add(BatchNormalization())\n",
        "model.add(Activation('relu'))\n",
        "model.add(MaxPooling2D(pool_size=(2, 2),strides=2))\n",
        "\n",
        "model.add(Flatten())\n",
        "model.add(Dense(128, activation='relu'))\n",
        "model.add(Dense(num_classes))\n",
        "model.add(Activation('softmax'))\n",
        "model.summary()\n",
        "\n",
        "model.compile(loss=tf.keras.losses.categorical_crossentropy,optimizer=tf.keras.optimizers.Adadelta(),metrics=['accuracy'])\n",
        "model.fit(train_X, train_Y, batch_size=batch_size*2, epochs=5,verbose=1, validation_data=(test_X, test_Y))"
      ],
      "execution_count": 12,
      "outputs": [
        {
          "output_type": "stream",
          "text": [
            "_________________________________________________________________\n",
            "Layer (type)                 Output Shape              Param #   \n",
            "=================================================================\n",
            "conv2d_15 (Conv2D)           (None, 40, 40, 32)        320       \n",
            "_________________________________________________________________\n",
            "batch_normalization_v1_15 (B (None, 40, 40, 32)        128       \n",
            "_________________________________________________________________\n",
            "activation_4 (Activation)    (None, 40, 40, 32)        0         \n",
            "_________________________________________________________________\n",
            "max_pooling2d_14 (MaxPooling (None, 20, 20, 32)        0         \n",
            "_________________________________________________________________\n",
            "conv2d_16 (Conv2D)           (None, 20, 20, 64)        18496     \n",
            "_________________________________________________________________\n",
            "batch_normalization_v1_16 (B (None, 20, 20, 64)        256       \n",
            "_________________________________________________________________\n",
            "activation_5 (Activation)    (None, 20, 20, 64)        0         \n",
            "_________________________________________________________________\n",
            "max_pooling2d_15 (MaxPooling (None, 10, 10, 64)        0         \n",
            "_________________________________________________________________\n",
            "conv2d_17 (Conv2D)           (None, 10, 10, 128)       73856     \n",
            "_________________________________________________________________\n",
            "batch_normalization_v1_17 (B (None, 10, 10, 128)       512       \n",
            "_________________________________________________________________\n",
            "activation_6 (Activation)    (None, 10, 10, 128)       0         \n",
            "_________________________________________________________________\n",
            "max_pooling2d_16 (MaxPooling (None, 5, 5, 128)         0         \n",
            "_________________________________________________________________\n",
            "conv2d_18 (Conv2D)           (None, 5, 5, 256)         295168    \n",
            "_________________________________________________________________\n",
            "batch_normalization_v1_18 (B (None, 5, 5, 256)         1024      \n",
            "_________________________________________________________________\n",
            "activation_7 (Activation)    (None, 5, 5, 256)         0         \n",
            "_________________________________________________________________\n",
            "max_pooling2d_17 (MaxPooling (None, 2, 2, 256)         0         \n",
            "_________________________________________________________________\n",
            "flatten_4 (Flatten)          (None, 1024)              0         \n",
            "_________________________________________________________________\n",
            "dense_8 (Dense)              (None, 128)               131200    \n",
            "_________________________________________________________________\n",
            "dense_9 (Dense)              (None, 2)                 258       \n",
            "_________________________________________________________________\n",
            "activation_8 (Activation)    (None, 2)                 0         \n",
            "=================================================================\n",
            "Total params: 521,218\n",
            "Trainable params: 520,258\n",
            "Non-trainable params: 960\n",
            "_________________________________________________________________\n",
            "Train on 331191 samples, validate on 6759 samples\n",
            "Epoch 1/5\n",
            "331191/331191 [==============================] - 37s 110us/sample - loss: 0.7997 - acc: 0.7945 - val_loss: 0.5972 - val_acc: 0.6470\n",
            "Epoch 2/5\n",
            "331191/331191 [==============================] - 35s 104us/sample - loss: 0.1857 - acc: 0.9242 - val_loss: 0.2484 - val_acc: 0.9038\n",
            "Epoch 3/5\n",
            "331191/331191 [==============================] - 35s 106us/sample - loss: 0.1040 - acc: 0.9595 - val_loss: 0.1049 - val_acc: 0.9657\n",
            "Epoch 4/5\n",
            "331191/331191 [==============================] - 35s 106us/sample - loss: 0.0752 - acc: 0.9714 - val_loss: 0.0543 - val_acc: 0.9846\n",
            "Epoch 5/5\n",
            "331191/331191 [==============================] - 35s 105us/sample - loss: 0.0515 - acc: 0.9804 - val_loss: 0.0359 - val_acc: 0.9886\n"
          ],
          "name": "stdout"
        },
        {
          "output_type": "execute_result",
          "data": {
            "text/plain": [
              "<tensorflow.python.keras.callbacks.History at 0x7f30905211d0>"
            ]
          },
          "metadata": {
            "tags": []
          },
          "execution_count": 12
        }
      ]
    },
    {
      "metadata": {
        "pycharm": {
          "metadata": false,
          "name": "#%%\n",
          "is_executing": true
        },
        "id": "vJxfWBRmwxkI",
        "colab_type": "code",
        "outputId": "913f0cd6-a95f-42d6-a008-c1cb1a2ffac6",
        "colab": {
          "base_uri": "https://localhost:8080/",
          "height": 2287
        }
      },
      "cell_type": "code",
      "source": [
        "model = Sequential()\n",
        "model.add(Conv2D(32, kernel_size=(3, 3),strides=1,padding = \"SAME\",input_shape=(40, 40, 1)))\n",
        "model.add(BatchNormalization())\n",
        "model.add(Activation('relu'))\n",
        "model.add(MaxPooling2D(pool_size=(2, 2),strides=2))\n",
        "\n",
        "model.add(Conv2D(64, kernel_size=(3, 3), strides=1, padding = \"SAME\"))\n",
        "model.add(BatchNormalization())\n",
        "model.add(Activation('relu'))\n",
        "model.add(MaxPooling2D(pool_size=(2, 2),strides=2))\n",
        "\n",
        "model.add(Conv2D(128, kernel_size=(3, 3), strides=1, padding = \"SAME\"))\n",
        "model.add(BatchNormalization())\n",
        "model.add(Activation('relu'))\n",
        "model.add(MaxPooling2D(pool_size=(2, 2),strides=2))\n",
        "\n",
        "model.add(Conv2D(256, kernel_size=(3, 3), strides=1, padding = \"SAME\"))\n",
        "model.add(BatchNormalization())\n",
        "model.add(Activation('relu'))\n",
        "model.add(MaxPooling2D(pool_size=(2, 2),strides=2))\n",
        "\n",
        "model.add(Flatten())\n",
        "model.add(Dense(128))\n",
        "model.add(BatchNormalization())\n",
        "model.add(Activation('relu'))\n",
        "model.add(Dense(num_classes))\n",
        "model.add(Activation('softmax'))\n",
        "model.summary()\n",
        "# model.fit(train_X, train_Y, batch_size=batch_size, epochs=epochs,\n",
        "#           verbose=1, validation_data=(test_X, test_Y))\n",
        "import os\n",
        "tpu_model = tf.contrib.tpu.keras_to_tpu_model(\n",
        "    model,\n",
        "    strategy=tf.contrib.tpu.TPUDistributionStrategy(\n",
        "        tf.contrib.cluster_resolver.TPUClusterResolver(tpu='grpc://' + os.environ['COLAB_TPU_ADDR'])\n",
        "    )\n",
        ")\n",
        "tpu_model.compile(loss=tf.keras.losses.categorical_crossentropy,\n",
        "              optimizer=tf.train.AdamOptimizer(learning_rate=1e-3, ),\n",
        "              metrics=['accuracy'])\n",
        "\n",
        "def train_gen(batch_size):\n",
        "  while True:\n",
        "    offset = np.random.randint(0, train_X.shape[0] - batch_size)\n",
        "    yield train_X[offset:offset+batch_size], train_Y[offset:offset + batch_size]\n",
        "\n",
        "history = tpu_model.fit(train_X, train_Y, batch_size=batch_size*8, epochs=20,verbose=1, validation_data=(test_X, test_Y))"
      ],
      "execution_count": 26,
      "outputs": [
        {
          "output_type": "stream",
          "text": [
            "_________________________________________________________________\n",
            "Layer (type)                 Output Shape              Param #   \n",
            "=================================================================\n",
            "conv2d_26 (Conv2D)           (None, 40, 40, 32)        320       \n",
            "_________________________________________________________________\n",
            "batch_normalization_v1_17 (B (None, 40, 40, 32)        128       \n",
            "_________________________________________________________________\n",
            "activation_24 (Activation)   (None, 40, 40, 32)        0         \n",
            "_________________________________________________________________\n",
            "max_pooling2d_24 (MaxPooling (None, 20, 20, 32)        0         \n",
            "_________________________________________________________________\n",
            "conv2d_27 (Conv2D)           (None, 20, 20, 64)        18496     \n",
            "_________________________________________________________________\n",
            "batch_normalization_v1_18 (B (None, 20, 20, 64)        256       \n",
            "_________________________________________________________________\n",
            "activation_25 (Activation)   (None, 20, 20, 64)        0         \n",
            "_________________________________________________________________\n",
            "max_pooling2d_25 (MaxPooling (None, 10, 10, 64)        0         \n",
            "_________________________________________________________________\n",
            "conv2d_28 (Conv2D)           (None, 10, 10, 128)       73856     \n",
            "_________________________________________________________________\n",
            "batch_normalization_v1_19 (B (None, 10, 10, 128)       512       \n",
            "_________________________________________________________________\n",
            "activation_26 (Activation)   (None, 10, 10, 128)       0         \n",
            "_________________________________________________________________\n",
            "max_pooling2d_26 (MaxPooling (None, 5, 5, 128)         0         \n",
            "_________________________________________________________________\n",
            "conv2d_29 (Conv2D)           (None, 5, 5, 256)         295168    \n",
            "_________________________________________________________________\n",
            "batch_normalization_v1_20 (B (None, 5, 5, 256)         1024      \n",
            "_________________________________________________________________\n",
            "activation_27 (Activation)   (None, 5, 5, 256)         0         \n",
            "_________________________________________________________________\n",
            "max_pooling2d_27 (MaxPooling (None, 2, 2, 256)         0         \n",
            "_________________________________________________________________\n",
            "flatten_7 (Flatten)          (None, 1024)              0         \n",
            "_________________________________________________________________\n",
            "dense_14 (Dense)             (None, 128)               131200    \n",
            "_________________________________________________________________\n",
            "batch_normalization_v1_21 (B (None, 128)               512       \n",
            "_________________________________________________________________\n",
            "activation_28 (Activation)   (None, 128)               0         \n",
            "_________________________________________________________________\n",
            "dense_15 (Dense)             (None, 2)                 258       \n",
            "_________________________________________________________________\n",
            "activation_29 (Activation)   (None, 2)                 0         \n",
            "=================================================================\n",
            "Total params: 521,730\n",
            "Trainable params: 520,514\n",
            "Non-trainable params: 1,216\n",
            "_________________________________________________________________\n",
            "INFO:tensorflow:Querying Tensorflow master (grpc://10.31.193.234:8470) for TPU system metadata.\n",
            "INFO:tensorflow:Found TPU system:\n",
            "INFO:tensorflow:*** Num TPU Cores: 8\n",
            "INFO:tensorflow:*** Num TPU Workers: 1\n",
            "INFO:tensorflow:*** Num TPU Cores Per Worker: 8\n",
            "INFO:tensorflow:*** Available Device: _DeviceAttributes(/job:worker/replica:0/task:0/device:CPU:0, CPU, -1, 12762166831385361006)\n",
            "INFO:tensorflow:*** Available Device: _DeviceAttributes(/job:worker/replica:0/task:0/device:XLA_CPU:0, XLA_CPU, 17179869184, 648946019846106062)\n",
            "INFO:tensorflow:*** Available Device: _DeviceAttributes(/job:worker/replica:0/task:0/device:TPU:0, TPU, 17179869184, 9521173857949962409)\n",
            "INFO:tensorflow:*** Available Device: _DeviceAttributes(/job:worker/replica:0/task:0/device:TPU:1, TPU, 17179869184, 17608275994993996685)\n",
            "INFO:tensorflow:*** Available Device: _DeviceAttributes(/job:worker/replica:0/task:0/device:TPU:2, TPU, 17179869184, 15673018017447364175)\n",
            "INFO:tensorflow:*** Available Device: _DeviceAttributes(/job:worker/replica:0/task:0/device:TPU:3, TPU, 17179869184, 4496402980237392479)\n",
            "INFO:tensorflow:*** Available Device: _DeviceAttributes(/job:worker/replica:0/task:0/device:TPU:4, TPU, 17179869184, 14618612483604551930)\n",
            "INFO:tensorflow:*** Available Device: _DeviceAttributes(/job:worker/replica:0/task:0/device:TPU:5, TPU, 17179869184, 75491423985553022)\n",
            "INFO:tensorflow:*** Available Device: _DeviceAttributes(/job:worker/replica:0/task:0/device:TPU:6, TPU, 17179869184, 6774203020717834515)\n",
            "INFO:tensorflow:*** Available Device: _DeviceAttributes(/job:worker/replica:0/task:0/device:TPU:7, TPU, 17179869184, 2449504615658425368)\n",
            "INFO:tensorflow:*** Available Device: _DeviceAttributes(/job:worker/replica:0/task:0/device:TPU_SYSTEM:0, TPU_SYSTEM, 17179869184, 16838813992479268438)\n",
            "WARNING:tensorflow:tpu_model (from tensorflow.contrib.tpu.python.tpu.keras_support) is experimental and may change or be removed at any time, and without warning.\n",
            "Train on 331191 samples, validate on 6759 samples\n",
            "Epoch 1/20\n",
            "INFO:tensorflow:New input shapes; (re-)compiling: mode=train (# of cores 8), [TensorSpec(shape=(3072,), dtype=tf.int32, name='core_id_140'), TensorSpec(shape=(3072, 40, 40, 1), dtype=tf.float32, name='conv2d_26_input_10'), TensorSpec(shape=(3072, 2), dtype=tf.float32, name='activation_29_target_10')]\n",
            "INFO:tensorflow:Overriding default placeholder.\n",
            "INFO:tensorflow:Remapping placeholder for conv2d_26_input\n",
            "INFO:tensorflow:Started compiling\n",
            "INFO:tensorflow:Finished compiling. Time elapsed: 18.206018447875977 secs\n",
            "INFO:tensorflow:Setting weights on TPU model.\n",
            "294912/331191 [=========================>....] - ETA: 5s - loss: 0.3941 - acc: 0.8361 INFO:tensorflow:New input shapes; (re-)compiling: mode=train (# of cores 8), [TensorSpec(shape=(1462,), dtype=tf.int32, name='core_id_140'), TensorSpec(shape=(1462, 40, 40, 1), dtype=tf.float32, name='conv2d_26_input_10'), TensorSpec(shape=(1462, 2), dtype=tf.float32, name='activation_29_target_10')]\n",
            "INFO:tensorflow:Overriding default placeholder.\n",
            "INFO:tensorflow:Remapping placeholder for conv2d_26_input\n",
            "INFO:tensorflow:Started compiling\n",
            "INFO:tensorflow:Finished compiling. Time elapsed: 17.29963445663452 secs\n",
            "319488/331191 [===========================>..] - ETA: 2s - loss: 0.3785 - acc: 0.8429INFO:tensorflow:New input shapes; (re-)compiling: mode=eval (# of cores 8), [TensorSpec(shape=(844,), dtype=tf.int32, name='core_id_150'), TensorSpec(shape=(844, 40, 40, 1), dtype=tf.float32, name='conv2d_26_input_10'), TensorSpec(shape=(844, 2), dtype=tf.float32, name='activation_29_target_10')]\n",
            "INFO:tensorflow:Overriding default placeholder.\n",
            "INFO:tensorflow:Remapping placeholder for conv2d_26_input\n",
            "INFO:tensorflow:Started compiling\n",
            "INFO:tensorflow:Finished compiling. Time elapsed: 15.714075088500977 secs\n",
            "331191/331191 [==============================] - 102s 309us/sample - loss: 0.3712 - acc: 0.8460 - val_loss: 0.3713 - val_acc: 0.8306\n",
            "Epoch 2/20\n",
            "331191/331191 [==============================] - 12s 37us/sample - loss: 0.1290 - acc: 0.9505 - val_loss: 0.3599 - val_acc: 0.8313\n",
            "Epoch 3/20\n",
            "331191/331191 [==============================] - 13s 40us/sample - loss: 0.0775 - acc: 0.9717 - val_loss: 0.2206 - val_acc: 0.9206\n",
            "Epoch 4/20\n",
            "331191/331191 [==============================] - 13s 40us/sample - loss: 0.0538 - acc: 0.9816 - val_loss: 0.2418 - val_acc: 0.9000\n",
            "Epoch 5/20\n",
            "331191/331191 [==============================] - 13s 40us/sample - loss: 0.0403 - acc: 0.9872 - val_loss: 0.1691 - val_acc: 0.9440\n",
            "Epoch 6/20\n",
            "331191/331191 [==============================] - 13s 41us/sample - loss: 0.0318 - acc: 0.9905 - val_loss: 0.1440 - val_acc: 0.9545\n",
            "Epoch 7/20\n",
            "331191/331191 [==============================] - 13s 40us/sample - loss: 0.0253 - acc: 0.9932 - val_loss: 0.1221 - val_acc: 0.9619\n",
            "Epoch 8/20\n",
            "331191/331191 [==============================] - 13s 40us/sample - loss: 0.0204 - acc: 0.9951 - val_loss: 0.1223 - val_acc: 0.9576\n",
            "Epoch 9/20\n",
            "331191/331191 [==============================] - 14s 41us/sample - loss: 0.0166 - acc: 0.9966 - val_loss: 0.0927 - val_acc: 0.9730\n",
            "Epoch 10/20\n",
            "331191/331191 [==============================] - 13s 40us/sample - loss: 0.0138 - acc: 0.9975 - val_loss: 0.1262 - val_acc: 0.9519\n",
            "Epoch 11/20\n",
            "331191/331191 [==============================] - 14s 41us/sample - loss: 0.0115 - acc: 0.9982 - val_loss: 0.1307 - val_acc: 0.9483\n",
            "Epoch 12/20\n",
            "331191/331191 [==============================] - 13s 41us/sample - loss: 0.0096 - acc: 0.9989 - val_loss: 0.2373 - val_acc: 0.8913\n",
            "Epoch 13/20\n",
            "331191/331191 [==============================] - 13s 39us/sample - loss: 0.0079 - acc: 0.9993 - val_loss: 0.0682 - val_acc: 0.9815\n",
            "Epoch 14/20\n",
            "331191/331191 [==============================] - 11s 34us/sample - loss: 0.0068 - acc: 0.9995 - val_loss: 0.0921 - val_acc: 0.9665\n",
            "Epoch 15/20\n",
            "331191/331191 [==============================] - 11s 34us/sample - loss: 0.0058 - acc: 0.9997 - val_loss: 0.0552 - val_acc: 0.9847\n",
            "Epoch 16/20\n",
            "331191/331191 [==============================] - 12s 38us/sample - loss: 0.0051 - acc: 0.9998 - val_loss: 0.0612 - val_acc: 0.9809\n",
            "Epoch 17/20\n",
            "331191/331191 [==============================] - 11s 35us/sample - loss: 0.0042 - acc: 0.9999 - val_loss: 0.0396 - val_acc: 0.9908\n",
            "Epoch 18/20\n",
            "331191/331191 [==============================] - 12s 36us/sample - loss: 0.0037 - acc: 0.9999 - val_loss: 0.0634 - val_acc: 0.9784\n",
            "Epoch 19/20\n",
            "331191/331191 [==============================] - 12s 36us/sample - loss: 0.0033 - acc: 1.0000 - val_loss: 0.0251 - val_acc: 0.9950\n",
            "Epoch 20/20\n",
            "331191/331191 [==============================] - 11s 35us/sample - loss: 0.0030 - acc: 1.0000 - val_loss: 0.0275 - val_acc: 0.9932\n"
          ],
          "name": "stdout"
        }
      ]
    },
    {
      "metadata": {
        "id": "ix55Ysj3NNS8",
        "colab_type": "code",
        "outputId": "6de2f62c-8f3d-4dff-aac0-1a2f4184c3ff",
        "colab": {
          "base_uri": "https://localhost:8080/",
          "height": 253
        }
      },
      "cell_type": "code",
      "source": [
        "# tpu_model.fit_generator(train_gen(batch_size*8), epochs=200, steps_per_epoch=len(train_X)//batch_size, validation_data=(test_X, test_Y))\n",
        "# history = tpu_model.fit(train_X, train_Y, batch_size=batch_size*8, epochs=200,verbose=1, validation_data=(test_X, test_Y))\n",
        "tpu_model.evaluate(real_X,real_Y,verbose=1)"
      ],
      "execution_count": 27,
      "outputs": [
        {
          "output_type": "stream",
          "text": [
            "INFO:tensorflow:New input shapes; (re-)compiling: mode=eval (# of cores 8), [TensorSpec(shape=(4,), dtype=tf.int32, name='core_id_150'), TensorSpec(shape=(4, 40, 40, 1), dtype=tf.float32, name='conv2d_26_input_10'), TensorSpec(shape=(4, 2), dtype=tf.float32, name='activation_29_target_10')]\n",
            "INFO:tensorflow:Overriding default placeholder.\n",
            "INFO:tensorflow:Remapping placeholder for conv2d_26_input\n",
            "INFO:tensorflow:Started compiling\n",
            "INFO:tensorflow:Finished compiling. Time elapsed: 15.799199342727661 secs\n",
            " 32/140 [=====>........................] - ETA: 58s - loss: 0.0727 - acc: 0.9688INFO:tensorflow:New input shapes; (re-)compiling: mode=eval (# of cores 8), [TensorSpec(shape=(1,), dtype=tf.int32, name='core_id_150'), TensorSpec(shape=(1, 40, 40, 1), dtype=tf.float32, name='conv2d_26_input_10'), TensorSpec(shape=(1, 2), dtype=tf.float32, name='activation_29_target_10')]\n",
            "INFO:tensorflow:Overriding default placeholder.\n",
            "INFO:tensorflow:Remapping placeholder for conv2d_26_input\n",
            "INFO:tensorflow:Started compiling\n",
            "INFO:tensorflow:Finished compiling. Time elapsed: 15.233566999435425 secs\n",
            "140/140 [==============================] - 34s 245ms/sample - loss: 0.0407 - acc: 0.9853\n"
          ],
          "name": "stdout"
        },
        {
          "output_type": "execute_result",
          "data": {
            "text/plain": [
              "[0.0407107234533344, 0.9852941]"
            ]
          },
          "metadata": {
            "tags": []
          },
          "execution_count": 27
        }
      ]
    },
    {
      "metadata": {
        "id": "FHsJQD7BIWhA",
        "colab_type": "code",
        "colab": {}
      },
      "cell_type": "code",
      "source": [
        ""
      ],
      "execution_count": 0,
      "outputs": []
    },
    {
      "metadata": {
        "id": "N_pKYezaM0Pc",
        "colab_type": "code",
        "outputId": "9f0f7117-a5c3-4458-d351-0e41e0d20f0f",
        "colab": {
          "base_uri": "https://localhost:8080/",
          "height": 269
        }
      },
      "cell_type": "code",
      "source": [
        "\n",
        "np.savetxt('train_loss.txt',history.history['loss'])\n",
        "np.savetxt('train_acc.txt',history.history['acc'])\n",
        " \n",
        "# plt.plot(np.loadtxt('train_loss.txt'),color='blue',label='train_loss')\n",
        "plt.plot(np.loadtxt('train_acc.txt'),color='green',label='train_acc')\n",
        "plt.legend(loc='best')\n",
        "plt.show()"
      ],
      "execution_count": 28,
      "outputs": [
        {
          "output_type": "display_data",
          "data": {
            "image/png": "[encoded data removed]",
            "text/plain": [
              "<Figure size 432x288 with 1 Axes>"
            ]
          },
          "metadata": {
            "tags": []
          }
        }
      ]
    },
    {
      "metadata": {
        "colab_type": "code",
        "id": "1otTmS0fPItT",
        "outputId": "154eb156-ed44-4373-8dc6-bd30188ca51b",
        "colab": {
          "base_uri": "https://localhost:8080/",
          "height": 73
        }
      },
      "cell_type": "code",
      "source": [
        "tpu_model.save(r'drive/My Drive/Colab Notebooks/CNNData/tpu_model1.keras')"
      ],
      "execution_count": 29,
      "outputs": [
        {
          "output_type": "stream",
          "text": [
            "INFO:tensorflow:Copying TPU weights to the CPU\n",
            "WARNING:tensorflow:TensorFlow optimizers do not make it possible to access optimizer attributes or optimizer state after instantiation. As a result, we cannot save the optimizer as part of the model save file.You will have to compile your model again after loading it. Prefer using a Keras optimizer instead (see keras.io/optimizers).\n"
          ],
          "name": "stdout"
        }
      ]
    },
    {
      "metadata": {
        "id": "lC8orzhV4QQx",
        "colab_type": "code",
        "outputId": "866085d9-f402-4dbe-eb88-0bcaf3f4c990",
        "colab": {
          "base_uri": "https://localhost:8080/",
          "height": 73
        }
      },
      "cell_type": "code",
      "source": [
        "tpu_model.save(r'drive/My Drive/Colab Notebooks/CNNData/tpu_model1.keras')"
      ],
      "execution_count": 0,
      "outputs": [
        {
          "output_type": "stream",
          "text": [
            "INFO:tensorflow:Copying TPU weights to the CPU\n",
            "WARNING:tensorflow:TensorFlow optimizers do not make it possible to access optimizer attributes or optimizer state after instantiation. As a result, we cannot save the optimizer as part of the model save file.You will have to compile your model again after loading it. Prefer using a Keras optimizer instead (see keras.io/optimizers).\n"
          ],
          "name": "stdout"
        }
      ]
    },
    {
      "metadata": {
        "pycharm": {
          "metadata": false,
          "name": "#%%\n"
        },
        "id": "NjVRySWTwxkw",
        "colab_type": "code",
        "outputId": "43a0aef6-9397-452f-a364-3d68eab82fbd",
        "colab": {
          "base_uri": "https://localhost:8080/",
          "height": 127
        }
      },
      "cell_type": "code",
      "source": [
        "from google.colab import drive\n",
        "drive.mount('/content/drive/')\n"
      ],
      "execution_count": 0,
      "outputs": [
        {
          "output_type": "stream",
          "text": [
            "Go to this URL in a browser: https://accounts.google.com/o/oauth2/auth?client_id=947318989803-6bn6qk8qdgf4n4g3pfee6491hc0brc4i.apps.googleusercontent.com&redirect_uri=urn%3Aietf%3Awg%3Aoauth%3A2.0%3Aoob&scope=email%20https%3A%2F%2Fwww.googleapis.com%2Fauth%2Fdocs.test%20https%3A%2F%2Fwww.googleapis.com%2Fauth%2Fdrive%20https%3A%2F%2Fwww.googleapis.com%2Fauth%2Fdrive.photos.readonly%20https%3A%2F%2Fwww.googleapis.com%2Fauth%2Fpeopleapi.readonly&response_type=code\n",
            "\n",
            "Enter your authorization code:\n",
            "··········\n",
            "Mounted at /content/drive/\n"
          ],
          "name": "stdout"
        }
      ]
    },
    {
      "metadata": {
        "id": "60kJwq8LxkWJ",
        "colab_type": "code",
        "outputId": "af269c3b-d94c-49ca-f29b-d1130a44f65e",
        "colab": {
          "base_uri": "https://localhost:8080/",
          "height": 53
        }
      },
      "cell_type": "code",
      "source": [
        "!ls drive/'My Drive'/'Colab Notebooks'/CNNData"
      ],
      "execution_count": 0,
      "outputs": [
        {
          "output_type": "stream",
          "text": [
            "model1.keras  real_Y.npy  test_Y.npy\t    train_X.npy\n",
            "real_X.npy    test_X.npy  tpu_model1.keras  train_Y.npy\n"
          ],
          "name": "stdout"
        }
      ]
    },
    {
      "metadata": {
        "id": "AqeiLl0gxmAe",
        "colab_type": "code",
        "colab": {}
      },
      "cell_type": "code",
      "source": [
        "!cp  -r drive/'My Drive'/'Colab Notebooks'/CNNData CNNData"
      ],
      "execution_count": 0,
      "outputs": []
    },
    {
      "metadata": {
        "id": "i6csh-aW0FOY",
        "colab_type": "code",
        "outputId": "f867707d-f81e-41e8-a95f-9707b66917b1",
        "colab": {
          "base_uri": "https://localhost:8080/",
          "height": 53
        }
      },
      "cell_type": "code",
      "source": [
        "!ls CNNData"
      ],
      "execution_count": 0,
      "outputs": [
        {
          "output_type": "stream",
          "text": [
            "model1.keras  real_Y.npy  test_Y.npy   train_Y.npy\n",
            "real_X.npy    test_X.npy  train_X.npy\n"
          ],
          "name": "stdout"
        }
      ]
    },
    {
      "metadata": {
        "id": "F06ZdlBcNX-y",
        "colab_type": "code",
        "outputId": "8c1d6e58-a3fc-41f3-81fa-70ce8bfb78e9",
        "colab": {
          "base_uri": "https://localhost:8080/",
          "height": 35
        }
      },
      "cell_type": "code",
      "source": [
        "import os\n",
        "os.listdir()"
      ],
      "execution_count": 0,
      "outputs": [
        {
          "output_type": "execute_result",
          "data": {
            "text/plain": [
              "['.config', 'drive', 'for_colab_cache', 'CNNData', 'sample_data']"
            ]
          },
          "metadata": {
            "tags": []
          },
          "execution_count": 1
        }
      ]
    },
    {
      "metadata": {
        "id": "v3Ez8Fca1JZK",
        "colab_type": "code",
        "outputId": "84f45812-bd57-4de4-93eb-6cba176cdc98",
        "colab": {
          "base_uri": "https://localhost:8080/",
          "height": 251
        }
      },
      "cell_type": "code",
      "source": [
        "import os\n",
        "import pprint\n",
        "import tensorflow as tf\n",
        "\n",
        "if 'COLAB_TPU_ADDR' not in os.environ:\n",
        "  print('ERROR: Not connected to a TPU runtime')\n",
        "else:\n",
        "  tpu_address = 'grpc://' + os.environ['COLAB_TPU_ADDR']\n",
        "  print ('TPU address is', tpu_address)\n",
        "\n",
        "  with tf.Session(tpu_address) as session:\n",
        "    devices = session.list_devices()\n",
        "\n",
        "  print('TPU devices:')\n",
        "  pprint.pprint(devices)"
      ],
      "execution_count": 0,
      "outputs": [
        {
          "output_type": "stream",
          "text": [
            "TPU address is grpc://10.14.132.26:8470\n",
            "TPU devices:\n",
            "[_DeviceAttributes(/job:tpu_worker/replica:0/task:0/device:CPU:0, CPU, -1, 16249388749562960940),\n",
            " _DeviceAttributes(/job:tpu_worker/replica:0/task:0/device:XLA_CPU:0, XLA_CPU, 17179869184, 9564113165923993756),\n",
            " _DeviceAttributes(/job:tpu_worker/replica:0/task:0/device:TPU:0, TPU, 17179869184, 6526536354007079243),\n",
            " _DeviceAttributes(/job:tpu_worker/replica:0/task:0/device:TPU:1, TPU, 17179869184, 8282147341680345465),\n",
            " _DeviceAttributes(/job:tpu_worker/replica:0/task:0/device:TPU:2, TPU, 17179869184, 2535314660454128908),\n",
            " _DeviceAttributes(/job:tpu_worker/replica:0/task:0/device:TPU:3, TPU, 17179869184, 13102880370169509695),\n",
            " _DeviceAttributes(/job:tpu_worker/replica:0/task:0/device:TPU:4, TPU, 17179869184, 4700620591374222133),\n",
            " _DeviceAttributes(/job:tpu_worker/replica:0/task:0/device:TPU:5, TPU, 17179869184, 13415833834741176358),\n",
            " _DeviceAttributes(/job:tpu_worker/replica:0/task:0/device:TPU:6, TPU, 17179869184, 11729603874280201526),\n",
            " _DeviceAttributes(/job:tpu_worker/replica:0/task:0/device:TPU:7, TPU, 17179869184, 12168952063037809197),\n",
            " _DeviceAttributes(/job:tpu_worker/replica:0/task:0/device:TPU_SYSTEM:0, TPU_SYSTEM, 17179869184, 658866484470920761)]\n"
          ],
          "name": "stdout"
        }
      ]
    }
  ]
}